{
 "cells": [
  {
   "cell_type": "code",
   "execution_count": 12,
   "id": "50ec762b-76f8-494a-92f5-b65115743480",
   "metadata": {},
   "outputs": [
    {
     "name": "stdout",
     "output_type": "stream",
     "text": [
      "['.DS_Store', 'malignant', 'benign', 'benign_mask', 'malignant_mask']\n"
     ]
    }
   ],
   "source": [
    "import os\n",
    "# Check how many data folders we have:\n",
    "path = \"/Users/dianaemal/breast_cancer_project/data/raw\"\n",
    "files = os.listdir(path)\n",
    "print(files)\n"
   ]
  },
  {
   "cell_type": "code",
   "execution_count": 33,
   "id": "f965d477-6b20-41d6-952d-31f736aa4cd6",
   "metadata": {},
   "outputs": [
    {
     "name": "stdout",
     "output_type": "stream",
     "text": [
      "benign (328).png\n",
      "malignant (206).png\n"
     ]
    }
   ],
   "source": [
    "# Check how many images of each catagory (malignant and benign) exist:\n",
    "b_images = os.listdir(f\"{path}/benign\")\n",
    "print(b_images[0])\n",
    "m_images = os.listdir(f\"{path}/malignant\")\n",
    "print(m_images[0])\n"
   ]
  },
  {
   "cell_type": "code",
   "execution_count": 31,
   "id": "9fd6e90d-862a-4171-974a-e1f9f980b0a1",
   "metadata": {},
   "outputs": [
    {
     "name": "stdout",
     "output_type": "stream",
     "text": [
      ".DS_Store\n",
      "Total malignant images: 210\n"
     ]
    }
   ],
   "source": [
    "\n",
    "for img in m_images:\n",
    "    if not img.startswith(\"malignant\"):\n",
    "        print(img)\n",
    "    \n",
    "print(\"Total malignant images: \" + str(len(m_images) - 1))"
   ]
  },
  {
   "cell_type": "code",
   "execution_count": 29,
   "id": "8552101f-bb9d-419f-a1cd-782e1e0ed247",
   "metadata": {},
   "outputs": [
    {
     "name": "stdout",
     "output_type": "stream",
     "text": [
      ".DS_Store\n",
      ".ipynb_checkpoints\n",
      "Total benign images: 437\n"
     ]
    }
   ],
   "source": [
    "\n",
    "for img in b_images:\n",
    "    if not img.startswith(\"benign\"):\n",
    "        print(img)\n",
    "    \n",
    "print(\"Total benign images: \" + str(len(b_images) - 2))\n",
    "        "
   ]
  },
  {
   "cell_type": "code",
   "execution_count": 36,
   "id": "ccc8ca30-82b8-4558-be28-45d858f6452a",
   "metadata": {},
   "outputs": [
    {
     "name": "stdout",
     "output_type": "stream",
     "text": [
      "(685, 567)\n",
      "(792, 571)\n"
     ]
    }
   ],
   "source": [
    "from PIL import Image\n",
    "# Check the dimentions of the images:\n",
    "img = Image.open(f\"{path}/benign/benign (328).png\")\n",
    "print(img.size)\n",
    "img2 = Image.open(f\"{path}/malignant/malignant (206).png\")\n",
    "print(img2.size)"
   ]
  },
  {
   "cell_type": "code",
   "execution_count": null,
   "id": "08e23d24-8f94-45b2-b9e4-8879e5750a85",
   "metadata": {},
   "outputs": [],
   "source": []
  }
 ],
 "metadata": {
  "kernelspec": {
   "display_name": "Python [conda env:base] *",
   "language": "python",
   "name": "conda-base-py"
  },
  "language_info": {
   "codemirror_mode": {
    "name": "ipython",
    "version": 3
   },
   "file_extension": ".py",
   "mimetype": "text/x-python",
   "name": "python",
   "nbconvert_exporter": "python",
   "pygments_lexer": "ipython3",
   "version": "3.12.7"
  }
 },
 "nbformat": 4,
 "nbformat_minor": 5
}
